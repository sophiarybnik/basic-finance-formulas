{
 "cells": [
  {
   "cell_type": "markdown",
   "metadata": {},
   "source": [
    "# Value of a stream of cash flows"
   ]
  },
  {
   "cell_type": "code",
   "execution_count": null,
   "metadata": {},
   "outputs": [],
   "source": [
    "n = int(input(\"Number of cash flows (also number of terms): \"))\n",
    "r = float(input(\"Interest rate: \"))/100\n",
    "#Initially the Present Value of the stream of cash flows is zero, and increases as payments are made\n",
    "PV = 0\n",
    "for i in range(0,n+1):\n",
    "    c = float(input(\"Cash flow (at time {}): \".format(i)))\n",
    "    #The Present value is the current value of the future stream of cash flows given the specified rate of return\n",
    "    PV += c/ ((1+r)**i)\n",
    "\n",
    "time = input(\"Present or Future value? \")\n",
    "if time.lower() == 'present':\n",
    "    print(\"Present Value of Cash Flow(s): {:.2f}\".format(PV))\n",
    "    \n",
    "else:\n",
    "    #The Future value is the value of the cash flows at a specified date in the future based on the assumed rate of constant growth\n",
    "    FV = PV*((1+r)**n)\n",
    "    print(\"Future Value of Cash Flow(s): {:.2f}\".format(FV))"
   ]
  },
  {
   "cell_type": "markdown",
   "metadata": {},
   "source": [
    "#  Valuing Perpetuities"
   ]
  },
  {
   "cell_type": "code",
   "execution_count": null,
   "metadata": {},
   "outputs": [],
   "source": [
    "#A perpetuity is a constant stream of identical cash flows that pays for an infinite amount of time\n",
    "c = float(input(\"Initial cash flow (at time 1): \"))\n",
    "r = float(input(\"Interest rate: \"))/100\n",
    "g = float(input(\"Growth rate: \"))/100\n",
    "\n",
    "time = input(\"Present or Future value? \")\n",
    "PV = c/(r-g)\n",
    "\n",
    "#Mathematically, the value of a perpetuity is finite and can be determined by discounting future cash flows to the present using an appropriate discount rate\n",
    "if time.lower() == 'present':\n",
    "    print(PV)\n",
    "    \n",
    "#The Future Value can be obtained by compounding the Present Value of the perpetuity n years into the future\n",
    "else:\n",
    "    FV = PV*((1+r)**n)"
   ]
  },
  {
   "cell_type": "markdown",
   "metadata": {},
   "source": [
    "# Valuing Annuities"
   ]
  },
  {
   "cell_type": "code",
   "execution_count": null,
   "metadata": {},
   "outputs": [],
   "source": [
    "#An ordinary annuity makes its payment at the end of a particular period, rather than at the beginning\n",
    "c = float(input(\"Cash flow paid each interval (starting at time 1): \"))\n",
    "r = float(input(\"Interest rate: \"))/100\n",
    "n = int(input(\"Number of terms: \"))\n",
    "g = float(input(\"Growth rate: \"))/100\n",
    "time = input(\"Present or Future value? \")\n",
    "\n",
    "#The Present Value of an annuity, which is the stream of equal cash flows discounted at an appropriate rate, enables comparison of values between taking a lump sum of money versus annuity payments\n",
    "PV = (c/(r-g))*(1-((1+g)/(1+r))**n)\n",
    "if time.lower() == 'present':\n",
    "    print(PV)\n",
    "\n",
    "#The Future Value can be obtained by compounding the Present Value of the annuity n years into the future\n",
    "else:\n",
    "    FV = PV*((1+r)**n)\n",
    "    print(FV)"
   ]
  },
  {
   "cell_type": "markdown",
   "metadata": {},
   "source": [
    "# Calculating Loan Payments"
   ]
  },
  {
   "cell_type": "code",
   "execution_count": null,
   "metadata": {},
   "outputs": [],
   "source": [
    "#The loan principal is equivalent to the present value of the loan payments\n",
    "P = float(input(\"Principal amount of loan: \"))\n",
    "r = float(input(\"Interest rate: \"))\n",
    "#The contract requires n periodic payments of C\n",
    "n = int(input(\"Loan term (in years): \"))\n",
    "C = P/((1/(r/100))*(1-(1/(1+(r/100))**n)))\n",
    "\n",
    "print(\"Annual Loan Payment: {:.2f}\".format(C))"
   ]
  },
  {
   "cell_type": "markdown",
   "metadata": {},
   "source": [
    "# Dividend Discount Model"
   ]
  },
  {
   "cell_type": "code",
   "execution_count": null,
   "metadata": {},
   "outputs": [],
   "source": [
    "#The Dividend Discount Model proposes that the price of the stock is equal to the present value of the expected dividends it will pay within a time horizon\n",
    "#The horizon, n, is arbitrary since the final stock price can repeatedly be replaced with the value that the next holder of the stock would be willing to pay\n",
    "n = int(input(\"Investment horizon (# of years stock is held): \"))\n",
    "r = float(input(\"Equity cost of capital: \"))/100\n",
    "p_sale = float(input(\"Expected sale price: \"))\n",
    "price = 0\n",
    "for i in range(1,n+1):\n",
    "    d = float(input(\"Dividend paid (in year {}): \".format(i)))\n",
    "    price += d/ ((1+ r)**i)\n",
    "\n",
    "#The price of the stock is given by the sum of the expected dividends, discounted to the present value\n",
    "price += p_sale/(1+r)**n\n",
    "print(\"Share Price: {:.2f}\".format(price))"
   ]
  },
  {
   "cell_type": "markdown",
   "metadata": {},
   "source": [
    "# Constant Dividend Growth Model"
   ]
  },
  {
   "cell_type": "code",
   "execution_count": null,
   "metadata": {},
   "outputs": [],
   "source": [
    "#The constant dividend growth model proposes that the value of the firm is a constant growth perpetuity; the value depends on the next expected dividend payment, divided by the equity cost of capital adjusted by the growth rate\n",
    "d = float(input(\"Amount of next dividend paid: \"))\n",
    "r = float(input(\"Equity Cost of Capital: \"))/100\n",
    "\n",
    "#With constant expected dividend growth, the expected growth rate of the share price matches the growth rate of the dividends\n",
    "#Preferred shares have a zero growth rate as the dividends are set at a predetermined periodic amount\n",
    "g = float(input(\"Growth rate: \"))/100\n",
    "\n",
    "price = d/(r-g)\n",
    "print(\"Share Price: {:.2f}\".format(price))"
   ]
  },
  {
   "cell_type": "markdown",
   "metadata": {},
   "source": [
    "# Calculating dividend payment"
   ]
  },
  {
   "cell_type": "code",
   "execution_count": null,
   "metadata": {},
   "outputs": [],
   "source": [
    "#Dividend Per Share is the total amount of dividends attributed to each individual share outstanding of a company\n",
    "earnings = float(input(\"Firm's earnings: \"))\n",
    "shares_outstanding = float(input(\"Shares outstanding: \"))\n",
    "#Earnings Per Share is a firm's net profit divided by the number of common shares it has outstanding\n",
    "eps = earnings/shares_outstanding\n",
    "#The dividend payout rate determines how much of a firm's excess cash is used to pay dividends to shareholders, vs being retained or used to repurchase shares\n",
    "r = float(input(\"Dividend payout rate: \"))/100\n",
    "\n",
    "dps = eps*r\n",
    "print(\"Dividend Per Share: {:.2f}\".format(dps))"
   ]
  },
  {
   "cell_type": "markdown",
   "metadata": {},
   "source": [
    "# Dividend Yield & Capital Gain Rate"
   ]
  },
  {
   "cell_type": "code",
   "execution_count": null,
   "metadata": {},
   "outputs": [],
   "source": [
    "#The total return of a stock is the sum of a stock’s dividend yield and capital gain rate; the expected return that the investor will earn for a one year investment in the stock\n",
    "d = float(input(\"Amount of next dividend paid: \"))\n",
    "p_initial = float(input(\"Share price today: \"))\n",
    "p_final = float(input(\"Share price end of year: \"))\n",
    "\n",
    "# A stock's dividend yield is the percentage return an investor expects to earn from the next dividend paid\n",
    "div_yield = (d/p_initial)*100\n",
    "#The capital gain rate is the amount by which the selling price of an asset exceeds its initial purchase price, expressed as a percentage of the initial purchase price\n",
    "cap_gain_rate = ((p_final - p_initial)/p_initial)*100\n",
    "r = (div_yield+cap_gain_rate)\n",
    "\n",
    "print('Dividend Yield: {:.2f}\\n Capital Gain Rate: {:.2f}\\n Equity Cost of Capital (total return): {:.2f}'.format(div_yield,cap_gain_rate,r))"
   ]
  },
  {
   "cell_type": "markdown",
   "metadata": {},
   "source": [
    "# Total payout model"
   ]
  },
  {
   "cell_type": "code",
   "execution_count": null,
   "metadata": {},
   "outputs": [],
   "source": [
    "#The total payout model values all of the firm’s equity rather than a single share by discounting the total payouts that the firm makes to shareholders\n",
    "earnings = float(input(\"Expected earnings: \"))\n",
    "#The payout rate includes the total amount spent on both dividends and share repurchases\n",
    "payout_rate = float(input(\"Payout rate: \"))/100\n",
    "r =  float(input(\"Equity cost of capital: \"))/100\n",
    "#The growth rate of earnings (rather than earnings per share) is used to forecast the growth of the firm’s total payout\n",
    "g = float(input(\"Growth rate: \"))/100\n",
    "shares_os = float(input(\"Shares outstanding: \"))\n",
    "\n",
    "pv = (earnings*payout_rate)/(r-g)\n",
    "\n",
    "#The value of the firm’s equity is divided by the current number of shares outstanding to determine the share price\n",
    "price = pv/shares_os\n",
    "print(\"Share Price: {:.2f}\".format(price))"
   ]
  }
 ],
 "metadata": {
  "kernelspec": {
   "display_name": "Python 3",
   "language": "python",
   "name": "python3"
  },
  "language_info": {
   "codemirror_mode": {
    "name": "ipython",
    "version": 3
   },
   "file_extension": ".py",
   "mimetype": "text/x-python",
   "name": "python",
   "nbconvert_exporter": "python",
   "pygments_lexer": "ipython3",
   "version": "3.8.5"
  }
 },
 "nbformat": 4,
 "nbformat_minor": 4
}
