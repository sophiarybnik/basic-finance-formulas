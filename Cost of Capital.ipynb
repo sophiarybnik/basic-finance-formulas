{
 "cells": [
  {
   "cell_type": "markdown",
   "metadata": {},
   "source": [
    "# Weighted Average Cost of Capital (WACC)"
   ]
  },
  {
   "cell_type": "code",
   "execution_count": null,
   "metadata": {},
   "outputs": [],
   "source": [
    "#WACC measures a firm's cost of raising capital, calculated by adding together the products of each source of capital and their respective weights by market value\n",
    "E = float(input(\"Market Value of Equity: \"))\n",
    "r_e = float(input(\"Cost of Equity: \"))\n",
    "PFD = float(input(\"\\nMarket Value of Preferred Stock: \"))\n",
    "r_pfd= float(input(\"Cost of Preferred Stock: \"))\n",
    "D = float(input(\"\\nMarket Value of Debt: \"))\n",
    "r_d= float(input(\"Cost of Debt: \"))\n",
    "\n",
    "#interest payments (on debt) are tax-deductible; the cost of debt needs to be multiplied by (1 – tax rate)\n",
    "corp_tax = float(input(\"\\nCorporate Tax: \"))/100\n",
    "\n",
    "#all sources of capital, including common stock, preferred stock, bonds, and any other long-term debt are included\n",
    "total_capital = E + PFD + D\n",
    "\n",
    "r_wacc = r_e*(E/total_capital)+r_pfd*(PFD/total_capital)+r_d*(1-corp_tax)*(D/total_capital)\n",
    "print(\"WACC: {:.2f}%\".format(r_wacc))"
   ]
  },
  {
   "cell_type": "markdown",
   "metadata": {},
   "source": [
    "# Calculating Cost of Equity: Capital Asset Pricing Model (CAPM)"
   ]
  },
  {
   "cell_type": "code",
   "execution_count": null,
   "metadata": {},
   "outputs": [],
   "source": [
    "#The cost of equity is an opportunity cost of capital- the rate of return shareholders require as compensation for the risk of investing in a stock\n",
    "\n",
    "RFR = float(input(\"Risk-free Rate: \"))/100\n",
    "#the return that can be earned by investing in a risk-free security (typically derived from treasury bonds)\n",
    "beta = float(input(\"Equity Beta: \"))\n",
    "#measure of a stock’s volatility (sensitivity of stock price) relative to the overall market\n",
    "MRP = float(input(\"Market Risk Premium: \"))/100\n",
    "#the extra return on investment required for an increased risk; given by the difference between expected return and the risk-free rate\n",
    "\n",
    "cost_of_equity = (RFR + beta*MRP)*100\n",
    "print(\"Cost of Equity: {:.2f}%\".format(cost_of_equity))"
   ]
  },
  {
   "cell_type": "markdown",
   "metadata": {},
   "source": [
    "# Calculating Cost of Debt (YTM)"
   ]
  },
  {
   "cell_type": "code",
   "execution_count": null,
   "metadata": {},
   "outputs": [],
   "source": [
    "#The Cost of Debt is the interest rate the firm would have to pay to \"refinance\" its current debt is equivalent to the Yield to Maturity on an outstanding bond, which is the return debtholders earn from holding the debt to maturity \n",
    "import numpy_financial as npf\n",
    "nper = float(input(\"Number of Periods: \"))\n",
    "pmt = float(input(\"Coupon Payment per Period: \"))\n",
    "pv = -(float(input(\"Present Value Paid for Debt: \")))\n",
    "fv = float(input(\"Face Value of Debt: \"))\n",
    "r = float(input(\"Corporate Tax Rate: \"))/100\n",
    "ytm = float(npf.rate(nper, pmt, pv, fv, when='end'))\n",
    "\n",
    "#if more than one coupon payment is made annually, the Effective Annual Rate must be used to take into account the number of compounding periods per year\n",
    "pmt_frequency = float(input(\"Number of Coupon Payments, per Year: \"))\n",
    "if pmt_frequency > 1:\n",
    "    ear = ((1+ytm)**pmt_frequency - 1)*100\n",
    "else: \n",
    "    ear = ytm*100\n",
    "    \n",
    "#The cost of debt is the effective interest rate that a company pays out to its debtholders and creditors\n",
    "post_tax_ear = ear*(1-r)\n",
    "print(\"Pre-tax Cost of Debt: {:.2f}%\\nPost-tax Cost of Debt: {:.2f}%\".format(ear,post_tax_ear))\n"
   ]
  },
  {
   "cell_type": "markdown",
   "metadata": {},
   "source": [
    "# Calculating Cost of Equity: Constant Dividend Growth Model"
   ]
  },
  {
   "cell_type": "code",
   "execution_count": null,
   "metadata": {},
   "outputs": [],
   "source": [
    "#The Constant Dividend Growth model proposes that market share prices reflect the present value of future dividends of a company discounted with an appropriate cost of equity\n",
    "#The model only applies to companies that pay dividends & assumes that the dividends will grow at a constant rate\n",
    "\n",
    "div = float(input(\"Next Dividend Payment: \"))\n",
    "price = float(input(\"Share Price: \"))\n",
    "g = float(input(\"Expected Dividend Growth: \"))/100\n",
    "\n",
    "cost_of_equity = ((div/price)+g)*100\n",
    "print(\"Cost of Equity: {:.2f}%\".format(cost_of_equity))"
   ]
  },
  {
   "cell_type": "markdown",
   "metadata": {},
   "source": [
    "# Cost of Levered Equity"
   ]
  },
  {
   "cell_type": "code",
   "execution_count": null,
   "metadata": {},
   "outputs": [],
   "source": [
    "#According to the Modigliani–Miller theorem (Proposition II), the cost of levered equity is greater than the cost of unlevered equity by a premium that is proportional to the debt-equity ratio\\\n",
    "r_u = float(input(\"Cost of Unlevered Equity: \"))/100\n",
    "E = float(input(\"Market Value of Equity: \"))\n",
    "D = float(input(\"Market Value of Debt: \"))\n",
    "r_d= float(input(\"Cost of Debt: \"))/100\n",
    "r_e = (r_u + D/E*(r_u-r_d))*100\n",
    "#Considering that debt is a lower-cost source of a capital, as the fraction of the firm financed with debt increases, the reduction in the overall cost of capital is offset by the increase in the firm's equity cost of capital\n",
    "#In perfect capital markets, the net effect is that the firm’s WACC is unchanged even after experiencing changes in capital structure\n",
    "print(\"Cost of Levered Equity: {:.2f}%\".format(r_e))"
   ]
  },
  {
   "cell_type": "markdown",
   "metadata": {},
   "source": [
    "# Value of a Levered Firm with Permanent Debt"
   ]
  },
  {
   "cell_type": "code",
   "execution_count": null,
   "metadata": {},
   "outputs": [],
   "source": [
    "#The Trade-off theory proposes that the total value of a levered firm is equivalent to adjusting the unlevered value of the firm to account for the tax savings from debt and the cost of financial distress associated with leverage \n",
    "\n",
    "v_u = float(input(\"Value of Unlevered Firm: \"))\n",
    "\n",
    "#The present value of the Interest Tax Shield on permanent debt is calculated by multiplying the market value of the debt by the marginal tax rate\n",
    "r = float(input(\"Marginal Tax Rate: \"))/100\n",
    "D = float(input(\"Market Value of Debt: \"))\n",
    "c = float(input(\"Costs of Financial Distress: \"))\n",
    "v_l = v_u + r*D - c\n",
    "print(\"Value of Levered Firm: ${:.2f}\".format(v_l))"
   ]
  },
  {
   "cell_type": "markdown",
   "metadata": {},
   "source": [
    "# Present Value of Interest Tax Shield"
   ]
  },
  {
   "cell_type": "code",
   "execution_count": null,
   "metadata": {},
   "outputs": [],
   "source": [
    "#The Interest Tax Shield is a measure of the tax savings (resulting from the reduction in taxable income) due to the tax-deductibility of interest expenses on debt\n",
    "debt = float(input(\"Value of current debt outstanding: \"))\n",
    "repayment = float(input(\"Value of debt repaid annually: \"))\n",
    "n = int(input(\"Number of years until debt is repaid in full: \"))\n",
    "c_r = float(input(\"Marginal Corporate Tax Rate: \"))/100\n",
    "i_r = float(input(\"Interest Rate: \"))/100\n",
    "pv = 0\n",
    "for i in range(1,n+1):\n",
    "    tax_shield = debt*i_r*c_r\n",
    "    #The interest tax shield needs to be discounted by an appopriate rate to account for the time value of money \n",
    "    pv += tax_shield/(1+i_r)**i\n",
    "    #As the debt borrowings are paid off, the magnitude of the tax shield decreases\n",
    "    debt -= repayment\n",
    "    \n",
    "print('Present Value of Interest Tax Shields: ${:.2f}'.format(pv))"
   ]
  }
 ],
 "metadata": {
  "kernelspec": {
   "display_name": "Python 3",
   "language": "python",
   "name": "python3"
  },
  "language_info": {
   "codemirror_mode": {
    "name": "ipython",
    "version": 3
   },
   "file_extension": ".py",
   "mimetype": "text/x-python",
   "name": "python",
   "nbconvert_exporter": "python",
   "pygments_lexer": "ipython3",
   "version": "3.8.5"
  }
 },
 "nbformat": 4,
 "nbformat_minor": 4
}
