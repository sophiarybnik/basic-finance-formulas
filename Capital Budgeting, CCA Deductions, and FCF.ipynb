{
 "cells": [
  {
   "cell_type": "markdown",
   "metadata": {},
   "source": [
    "# Annual CCA Deductions & Tax Shields"
   ]
  },
  {
   "cell_type": "code",
   "execution_count": null,
   "metadata": {},
   "outputs": [],
   "source": [
    "#Capital Cost Allowance (CCA) is an annual deduction that can be claimed on depreciable assets, which reduce taxable income, the amount of tax paid, and the firm’s cash flows.\n",
    "\n",
    "n = int(input(\"Number of Years: \"))\n",
    "cap_ex = float(input(\"Capital Expenditure: \"))\n",
    "\n",
    "#The appropriate CCA Rate is the proportion of the undepreciated cost of capital that can be claimed as CCA in a given tax year\n",
    "#The Canada Revenue Agency defines distinct classes of annual rates at which CCA can be claimed, varying by the type of asset.\n",
    "d = float(input(\"CCA Rate: \"))/100\n",
    "r = float(input(\"Corporate Tax Rate: \"))/100 \n",
    "discount_rate = float(input(\"Discount Rate: \"))/100 \n",
    "\n",
    "#The 'half-year rule' accounts for the possibility of an asset being purchased at any time throughout a year; it can be assumed that, on average, an asset is owned for 1/2 a year in the year it is purchased \n",
    "#It follows that the CRA allows only half of the asset to generate CCA in the year in which the purchase takes place            \n",
    "ucc = 0.5*cap_ex\n",
    "cca = ucc*d\n",
    "#The incremental CCA deduction for an asset taken in a given tax year forms a 'tax shield', which is equal to the incremental undepricated cost of capital of the asset multiplied by the relevant CCA rate\n",
    "cca_ts = r*cca\n",
    "pv = cca_ts/(1+discount_rate)\n",
    "print(\"\\nUndepreciated Cost of Capital in Year 1: {:.2f}\\nCCA Deduction for Year 1: {:.2f}\\nCCA Tax Shield for Year {:.2f}\".format(ucc,cca,cca_ts))\n",
    "\n",
    "#After the 1st year of ownership of the asset, the undepreciated cost of capital is calculated by deducting an asset’s current and prior CCA amounts from the original CapEx\n",
    "for t in range(2,n+1):\n",
    "    #After a CCA deduction is claimed, the undepreciated cost of capital is reduced for the next year\n",
    "    ucc = cap_ex*(1-(d/2))*((1-d))**(t-2)\n",
    "    cca = ucc*d\n",
    "    cca_ts = r*cca\n",
    "    print(\"\\nUndepreciated Cost of Capital in Year {:.2f}: {:.2f}\\nCCA Deduction for Year {:.2f}: {:.2f}\\nCCA Tax Shield for Year {:.2f}: {:.2f}\".format(t,ucc,t,cca,t,cca_ts))\n",
    "    #The present value of the CCA Tax Shield can be given by the sum of the annual CCA Tax Shields, each discounted at the appropriate rate to account for the time value of money\n",
    "    pv += cca_ts/((1+discount_rate)**t)\n",
    "\n",
    "print(\"Present Value of first {:.2f} CCA Tax Shields: {:.2f}\".format(n,pv))"
   ]
  },
  {
   "cell_type": "markdown",
   "metadata": {},
   "source": [
    "# Present Value of a Perpetual CCA Tax Shield"
   ]
  },
  {
   "cell_type": "code",
   "execution_count": null,
   "metadata": {},
   "outputs": [],
   "source": [
    "#If an asset is not sold, it will generate CCA expenses (and CCA tax shields) every year into perpetuity\n",
    "#Note that the undepreciated cost of capital approaches but never falls to zero since the annual CCA deduction is a proportion of the UCC\n",
    "cap_ex = float(input(\"Capital Expenditure: \"))\n",
    "\n",
    "#The present value of the resulting tax shield can be defined as a growing perpetuity with a negative growth rate, equivalent to the CCA Rate\n",
    "d = float(input(\"CCA Rate: \"))/100\n",
    "corp_tax = float(input(\"Corporate Tax Rate: \"))/100\n",
    "r = float(input(\"Interest Rate: \"))/100\n",
    "\n",
    "pv = ((cap_ex*d*corp_tax)/(r+d))*((1+(r/2))/(1+r))\n",
    "print(\"Present Value of the Perpetual CCA Tax Shield: {:.2f}\".format(pv))"
   ]
  },
  {
   "cell_type": "markdown",
   "metadata": {},
   "source": [
    "# Value of a New Project"
   ]
  },
  {
   "cell_type": "code",
   "execution_count": null,
   "metadata": {},
   "outputs": [],
   "source": [
    "#The Net Present Value of a project, whose initial investment is not sold at the end of the project's timeline, can be calculated by valuing the NPV of the project's free cash flows and the perpetual tax shield on a separate basis\n",
    "initial_cost = float(input(\"Initial Expense of New Project: \"))\n",
    "WC = float(input(\"Working Capital Recovered at End of Project: \")) \n",
    "n = int(input(\"Number of Years of Project: \"))  \n",
    "NI = float(input(\"Annual Net Income: \"))\n",
    "cap_ex = float(input(\"Capital Expenditure: \"))\n",
    "d = float(input(\"CCA Rate: \"))/100\n",
    "corp_tax = float(input(\"Corporate Tax Rate: \"))/100\n",
    "r = float(input(\"Interest Rate: \"))/100\n",
    "\n",
    "#A firm's Free Cash Flows, excluding the CCA deductions, can be calculated by removing all references to CCA from the free cash flow formula\n",
    "npv_excluding_ts = -initial_cost + (NI/r)*(1-1/(1+r)**(n-1))+(NI+WC)/((1+r)**n) \n",
    "\n",
    "#Included in the valuation of an investment is the present value of all the CCA tax shields, including those that continue beyond the end of the project\n",
    "pv_perpetual_ts = ((cap_ex*d*corp_tax)/(r+d))*((1+(r/2))/(1+r))\n",
    "\n",
    "#The Net Present Value is equal to the present value of the project's free cash flows, excluding CCA Tax shields, plus the value of the perpetual CCA Tax Shield\n",
    "NPV = npv_excluding_ts + pv_perpetual_ts\n",
    "print(\"Net Present Value of Project: {:.2f}\".format(NPV))\n"
   ]
  },
  {
   "cell_type": "markdown",
   "metadata": {},
   "source": [
    "# Free Cash Flows of a Project in a Time Interval"
   ]
  },
  {
   "cell_type": "code",
   "execution_count": null,
   "metadata": {},
   "outputs": [],
   "source": [
    "#A project's free cash flows over a time interval can be calculated annually, by adding back non-cash expenses and deducting capital expenditures & increases in net working capital from the firm's unlevered net income\n",
    "n = int(input(\"Number of Years: \"))\n",
    "for i in range(0,n+1):\n",
    "    print(\"Year {}:\".format(i))\n",
    "    revenue = float(input(\"Revenue: \"))\n",
    "    costs = float(input(\"Costs: \"))\n",
    "    cap_ex = float(input(\"Capital Expenditure: \"))\n",
    "    cca = float(input(\"CCA Deduction: \"))\n",
    "    corp_tax = float(input(\"Corporate Tax Rate: \"))/100\n",
    "    nwc= float(input(\"Changes in Net Working Capital: \"))\n",
    "    #Note that the CCA is deducted to reduce the firm’s taxable income and then added back because it is a non-cash expense\n",
    "    fcf = (revenue-costs-cca)*(1-corp_tax)+cca-cap_ex-nwc \n",
    "    print(\"{:.2f}\\n\".format(fcf))"
   ]
  },
  {
   "cell_type": "markdown",
   "metadata": {},
   "source": [
    "# Present Value of CCA Tax Shield After Asset Sale"
   ]
  },
  {
   "cell_type": "code",
   "execution_count": 16,
   "metadata": {},
   "outputs": [
    {
     "name": "stdout",
     "output_type": "stream",
     "text": [
      "Time Period Sold (Number of Year): 5\n",
      "Capital Expenditure: 1000000\n",
      "Sale Price: 100000\n",
      "CCA Rate: 40\n",
      "Corporate Tax Rate: 45\n",
      "Discount Rate: 15\n",
      "Present Value of CCA Tax Shields, post-sale: 289657.61514517845\n"
     ]
    }
   ],
   "source": [
    "#Selling an asset is that has subsequent effects on a firm's annual CCA deductions and tax shields\n",
    "#To calculate the value of the CCA Tax Shields post asset sale, we make 2 assumptions: 1) a continuing pool- other assets remain in the asset pool the sold asset belonged to (the UCC remains positive), and 2) negative net additions- asset purchases in the tax year of the asset sale are less than the profit made by asset sales such that the asset pool's UCC decreases but remains positive\n",
    "t = int(input(\"Time Period Sold (Number of Year): \"))\n",
    "cap_ex = float(input(\"Capital Expenditure: \"))\n",
    "sale_price = float(input(\"Sale Price: \"))\n",
    "d = float(input(\"CCA Rate: \"))/100\n",
    "r = float(input(\"Corporate Tax Rate: \"))/100 \n",
    "discount_rate = float(input(\"Discount Rate: \"))/100 \n",
    "#The minimum of the Sale Price and the original purchase price (CapEx) is subtracted from the UCC to get the post-sale UCC\n",
    "value = min(cap_ex,sale_price)\n",
    "\n",
    "#the first reduction in CCA tax shields is in year t + 1; the below formula includes discounting the value of the tax shield back from date t to date 0\n",
    "pv = ((cap_ex*d*r)/(discount_rate+d))*((1+(discount_rate/2))/(1+discount_rate))-((value*d*r)/(discount_rate+d))*(1/(1+discount_rate)**t)\n",
    "print(\"Present Value of CCA Tax Shields, post-sale: {:.2f}\".format(pv))"
   ]
  },
  {
   "cell_type": "code",
   "execution_count": null,
   "metadata": {},
   "outputs": [],
   "source": []
  }
 ],
 "metadata": {
  "kernelspec": {
   "display_name": "Python 3",
   "language": "python",
   "name": "python3"
  },
  "language_info": {
   "codemirror_mode": {
    "name": "ipython",
    "version": 3
   },
   "file_extension": ".py",
   "mimetype": "text/x-python",
   "name": "python",
   "nbconvert_exporter": "python",
   "pygments_lexer": "ipython3",
   "version": "3.8.5"
  }
 },
 "nbformat": 4,
 "nbformat_minor": 4
}
